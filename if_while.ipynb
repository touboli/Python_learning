{
 "cells": [
  {
   "cell_type": "code",
   "execution_count": 1,
   "metadata": {},
   "outputs": [
    {
     "name": "stdout",
     "output_type": "stream",
     "text": [
      "买了2个西瓜\n"
     ]
    }
   ],
   "source": [
    "watermelon_num = 1\n",
    "tomato = input(\"是否看到了卖西红柿的？看到了吗？(y/n): \")\n",
    "if tomato == 'y':\n",
    "    watermelon_num = 2\n",
    "print(\"买了%d个西瓜\" % watermelon_num)"
   ]
  },
  {
   "cell_type": "code",
   "execution_count": 3,
   "metadata": {},
   "outputs": [
    {
     "name": "stdout",
     "output_type": "stream",
     "text": [
      "买了1个西瓜\n"
     ]
    }
   ],
   "source": [
    "watermelon_num = 1\n",
    "\n",
    "tomato = input(\"是否看到了卖西红柿的？看到了吗？(y/n): \")\n",
    "if tomato == 'y':\n",
    "    watermelon_num +=2\n",
    "if watermelon_num == 2:\n",
    "    print(\"不要回家了\")\n",
    "print(\"买了%d个西瓜\" % watermelon_num)"
   ]
  },
  {
   "cell_type": "code",
   "execution_count": 4,
   "metadata": {},
   "outputs": [
    {
     "name": "stdout",
     "output_type": "stream",
     "text": [
      "1\n",
      "-1 is True\n"
     ]
    }
   ],
   "source": [
    "if 0:\n",
    "    print(\"0 is True\")\n",
    "if 1:\n",
    "    print(\"1\")\n",
    "if \"\":\n",
    "    print(\"空字符串是True\")\n",
    "if []:\n",
    "    print(\"空列表是True\")\n",
    "if -1:\n",
    "    print(\"-1 is True\")\n",
    "if None:\n",
    "    print(\"None is True\")\n"
   ]
  },
  {
   "cell_type": "code",
   "execution_count": 5,
   "metadata": {},
   "outputs": [
    {
     "name": "stdout",
     "output_type": "stream",
     "text": [
      "eat tomato eeg\n"
     ]
    }
   ],
   "source": [
    "tomato = input(\"have tomato?(y/n):\")\n",
    "if tomato == 'y':\n",
    "    print(\"buy 2 tomato\")\n",
    "else:\n",
    "    print(\"eat tomato eeg\")"
   ]
  },
  {
   "cell_type": "code",
   "execution_count": 10,
   "metadata": {},
   "outputs": [
    {
     "name": "stdout",
     "output_type": "stream",
     "text": [
      "buy 2 tomato\n"
     ]
    }
   ],
   "source": [
    "tomato = input(\"have tomato?(y/n):\")\n",
    "pepper = input(\"have pepper?(y/n):\")\n",
    "if tomato == 'y':\n",
    "    print(\"buy 2 tomato\")\n",
    "elif pepper == 'y':\n",
    "    print(\"buy 2 pepper\")\n",
    "else:\n",
    "    print(\"eat tomato eeg\")"
   ]
  },
  {
   "cell_type": "code",
   "execution_count": 13,
   "metadata": {},
   "outputs": [
    {
     "name": "stdout",
     "output_type": "stream",
     "text": [
      "吃番茄炒蛋\n"
     ]
    }
   ],
   "source": [
    "egg = 3\n",
    "tomato = 2\n",
    "noodle = 1\n",
    "rice = 0\n",
    "if egg and tomato:\n",
    "    print(\"吃番茄炒蛋\")\n",
    "elif noodle or rice:\n",
    "    print(\"吃面条或者米饭\")\n",
    "else:\n",
    "    print(\"只能吃菜\")\n"
   ]
  },
  {
   "cell_type": "code",
   "execution_count": 14,
   "metadata": {},
   "outputs": [
    {
     "name": "stdout",
     "output_type": "stream",
     "text": [
      "p\n",
      "y\n",
      "t\n",
      "h\n",
      "o\n",
      "n\n"
     ]
    }
   ],
   "source": [
    "for i in \"python\":\n",
    "    print(i)"
   ]
  },
  {
   "cell_type": "code",
   "execution_count": 15,
   "metadata": {},
   "outputs": [
    {
     "name": "stdout",
     "output_type": "stream",
     "text": [
      "loop_num is: 1\n",
      "loop_num is: 2\n",
      "loop_num is: 3\n",
      "loop end\n"
     ]
    }
   ],
   "source": [
    "for i in [1, 2, 3]:\n",
    "    print(\"loop_num is:\", i)\n",
    "else:\n",
    "    print(\"loop end\")\n"
   ]
  },
  {
   "cell_type": "code",
   "execution_count": 16,
   "metadata": {},
   "outputs": [
    {
     "name": "stdout",
     "output_type": "stream",
     "text": [
      "5\n",
      "4\n",
      "3\n",
      "2\n",
      "1\n"
     ]
    }
   ],
   "source": [
    "i=5\n",
    "while i>0:\n",
    "    print(i)\n",
    "    i -= 1"
   ]
  },
  {
   "cell_type": "code",
   "execution_count": 20,
   "metadata": {},
   "outputs": [
    {
     "name": "stdout",
     "output_type": "stream",
     "text": [
      " 0* 0=0   0* 1=0   0* 2=0   0* 3=0   0* 4=0   0* 5=0   0* 6=0   0* 7=0   0* 8=0   0* 9=0   0*10=0   0*11=0  \n",
      " 1* 0=0   1* 1=1   1* 2=2   1* 3=3   1* 4=4   1* 5=5   1* 6=6   1* 7=7   1* 8=8   1* 9=9   1*10=10  1*11=11 \n",
      " 2* 0=0   2* 1=2   2* 2=4   2* 3=6   2* 4=8   2* 5=10  2* 6=12  2* 7=14  2* 8=16  2* 9=18  2*10=20  2*11=22 \n",
      " 3* 0=0   3* 1=3   3* 2=6   3* 3=9   3* 4=12  3* 5=15  3* 6=18  3* 7=21  3* 8=24  3* 9=27  3*10=30  3*11=33 \n",
      " 4* 0=0   4* 1=4   4* 2=8   4* 3=12  4* 4=16  4* 5=20  4* 6=24  4* 7=28  4* 8=32  4* 9=36  4*10=40  4*11=44 \n",
      " 5* 0=0   5* 1=5   5* 2=10  5* 3=15  5* 4=20  5* 5=25  5* 6=30  5* 7=35  5* 8=40  5* 9=45  5*10=50  5*11=55 \n",
      " 6* 0=0   6* 1=6   6* 2=12  6* 3=18  6* 4=24  6* 5=30  6* 6=36  6* 7=42  6* 8=48  6* 9=54  6*10=60  6*11=66 \n",
      " 7* 0=0   7* 1=7   7* 2=14  7* 3=21  7* 4=28  7* 5=35  7* 6=42  7* 7=49  7* 8=56  7* 9=63  7*10=70  7*11=77 \n",
      " 8* 0=0   8* 1=8   8* 2=16  8* 3=24  8* 4=32  8* 5=40  8* 6=48  8* 7=56  8* 8=64  8* 9=72  8*10=80  8*11=88 \n",
      " 9* 0=0   9* 1=9   9* 2=18  9* 3=27  9* 4=36  9* 5=45  9* 6=54  9* 7=63  9* 8=72  9* 9=81  9*10=90  9*11=99 \n",
      "10* 0=0  10* 1=10 10* 2=20 10* 3=30 10* 4=40 10* 5=50 10* 6=60 10* 7=70 10* 8=80 10* 9=90 10*10=10010*11=110\n",
      "11* 0=0  11* 1=11 11* 2=22 11* 3=33 11* 4=44 11* 5=55 11* 6=66 11* 7=77 11* 8=88 11* 9=99 11*10=11011*11=121\n"
     ]
    }
   ],
   "source": [
    "for i in range(12):\n",
    "    for j in range(12):\n",
    "        print(\"%2d*%2d=%-3d\" % (i, j, i*j), end=\"\")\n",
    "    print()"
   ]
  },
  {
   "cell_type": "code",
   "execution_count": 29,
   "metadata": {},
   "outputs": [
    {
     "name": "stdout",
     "output_type": "stream",
     "text": [
      " 1* 1=1  \n",
      " 2* 1=2   2* 2=4  \n",
      " 3* 1=3   3* 2=6   3* 3=9  \n",
      " 4* 1=4   4* 2=8   4* 3=12  4* 4=16 \n",
      " 5* 1=5   5* 2=10  5* 3=15  5* 4=20  5* 5=25 \n",
      " 6* 1=6   6* 2=12  6* 3=18  6* 4=24  6* 5=30  6* 6=36 \n",
      " 7* 1=7   7* 2=14  7* 3=21  7* 4=28  7* 5=35  7* 6=42  7* 7=49 \n",
      " 8* 1=8   8* 2=16  8* 3=24  8* 4=32  8* 5=40  8* 6=48  8* 7=56  8* 8=64 \n",
      " 9* 1=9   9* 2=18  9* 3=27  9* 4=36  9* 5=45  9* 6=54  9* 7=63  9* 8=72  9* 9=81 \n",
      "10* 1=10 10* 2=20 10* 3=30 10* 4=40 10* 5=50 10* 6=60 10* 7=70 10* 8=80 10* 9=90 10*10=100\n",
      "11* 1=11 11* 2=22 11* 3=33 11* 4=44 11* 5=55 11* 6=66 11* 7=77 11* 8=88 11* 9=99 11*10=11011*11=121\n",
      "12* 1=12 12* 2=24 12* 3=36 12* 4=48 12* 5=60 12* 6=72 12* 7=84 12* 8=96 12* 9=10812*10=12012*11=13212*12=144\n"
     ]
    }
   ],
   "source": [
    "for i in range(1,13):\n",
    "     j=1\n",
    "     while j<=i:\n",
    "        print(\"%2d*%2d=%--3d\"%(i,j,i*j),end=\"\")\n",
    "        j+=1\n",
    "     print()\n"
   ]
  },
  {
   "cell_type": "code",
   "execution_count": 31,
   "metadata": {},
   "outputs": [
    {
     "name": "stdout",
     "output_type": "stream",
     "text": [
      "100\n"
     ]
    }
   ],
   "source": [
    "n=0\n",
    "for i in range(10):\n",
    "    for j in range(10):\n",
    "        n+=1\n",
    "print(n)"
   ]
  },
  {
   "cell_type": "code",
   "execution_count": 32,
   "metadata": {},
   "outputs": [
    {
     "name": "stdout",
     "output_type": "stream",
     "text": [
      "1000\n"
     ]
    }
   ],
   "source": [
    "n = 0\n",
    "for i in range(10):\n",
    "    for j in range(10):\n",
    "        for k in range(10):\n",
    "            n += 1\n",
    "print(n)"
   ]
  },
  {
   "cell_type": "code",
   "execution_count": 33,
   "metadata": {},
   "outputs": [
    {
     "name": "stdout",
     "output_type": "stream",
     "text": [
      "当前字母： p\n",
      "当前字母： y\n",
      "当前字母： t\n",
      "当前字母： o\n",
      "当前字母： n\n",
      "当前变量值： 9\n",
      "当前变量值： 8\n",
      "当前变量值： 7\n",
      "当前变量值： 6\n",
      "当前变量值： 4\n",
      "当前变量值： 3\n",
      "当前变量值： 2\n",
      "当前变量值： 1\n",
      "当前变量值： 0\n",
      "good bye\n"
     ]
    }
   ],
   "source": [
    "for letter in \"python\":\n",
    "    if letter == 'h':\n",
    "        continue\n",
    "    print(\"当前字母：\", letter)\n",
    "var = 10\n",
    "while var > 0:\n",
    "    var -= 1\n",
    "    if var == 5:\n",
    "        continue\n",
    "    print(\"当前变量值：\", var)\n",
    "print(\"good bye\")"
   ]
  },
  {
   "cell_type": "code",
   "execution_count": 35,
   "metadata": {},
   "outputs": [
    {
     "name": "stdout",
     "output_type": "stream",
     "text": [
      "当前字母： p\n",
      "当前字母： y\n",
      "当前字母： t\n",
      "当前变量值： 10\n",
      "当前变量值： 9\n",
      "当前变量值： 8\n",
      "当前变量值： 7\n",
      "当前变量值： 6\n",
      "good bye\n"
     ]
    }
   ],
   "source": [
    "for letter in \"python\":\n",
    "    if letter == 'h':\n",
    "        break\n",
    "    print(\"当前字母：\", letter)\n",
    "var = 10\n",
    "while var > 0:\n",
    "    print(\"当前变量值：\", var)\n",
    "    var = var - 1\n",
    "    if var == 5:\n",
    "        break\n",
    "print(\"good bye\")"
   ]
  },
  {
   "cell_type": "code",
   "execution_count": 36,
   "metadata": {},
   "outputs": [
    {
     "name": "stdout",
     "output_type": "stream",
     "text": [
      "当前在外循环 0\n",
      "当前在内循环 0\n",
      "当前在内循环 1\n",
      "当前在内循环 2\n",
      "当前在外循环 1\n",
      "当前在内循环 0\n",
      "当前在内循环 1\n",
      "当前在内循环 2\n",
      "当前在外循环 2\n",
      "当前在内循环 0\n",
      "当前在内循环 1\n",
      "当前在内循环 2\n"
     ]
    }
   ],
   "source": [
    "for i in range(3):\n",
    "    print(\"当前在外循环\", i)\n",
    "    for j in range(4):\n",
    "        print(\"当前在内循环\", j)\n",
    "        if j == 2:\n",
    "            break"
   ]
  },
  {
   "cell_type": "code",
   "execution_count": 39,
   "metadata": {},
   "outputs": [
    {
     "name": "stdout",
     "output_type": "stream",
     "text": [
      "超过了限制\n"
     ]
    }
   ],
   "source": [
    "temp = 0\n",
    "while True:\n",
    "    num = input(\"请输入一个数字\")\n",
    "    num = float(num)\n",
    "    temp += num\n",
    "    if temp > 100:\n",
    "        print(\"超过了限制\")\n",
    "        break"
   ]
  }
 ],
 "metadata": {
  "kernelspec": {
   "display_name": "Python 3",
   "language": "python",
   "name": "python3"
  },
  "language_info": {
   "codemirror_mode": {
    "name": "ipython",
    "version": 3
   },
   "file_extension": ".py",
   "mimetype": "text/x-python",
   "name": "python",
   "nbconvert_exporter": "python",
   "pygments_lexer": "ipython3",
   "version": "3.8.10"
  }
 },
 "nbformat": 4,
 "nbformat_minor": 2
}
