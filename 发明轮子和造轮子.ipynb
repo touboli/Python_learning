{
 "cells": [
  {
   "cell_type": "code",
   "execution_count": 3,
   "metadata": {},
   "outputs": [
    {
     "name": "stdout",
     "output_type": "stream",
     "text": [
      "funca被调用了\n",
      "我来自funca\n",
      "funcb被调用了\n",
      "funca被调用了\n",
      "funca被调用了\n"
     ]
    }
   ],
   "source": [
    "\"\"\"python中的模块的使用\"\"\"\n",
    "import a\n",
    "\n",
    "a.funca()\n",
    "print(a.A)\n",
    "\n",
    "from a import funcb\n",
    "funcb()\n",
    "\n",
    "from a import *\n",
    "\n",
    "funca()\n",
    "\n",
    "import a as A\n",
    "A.funca()"
   ]
  },
  {
   "cell_type": "code",
   "execution_count": 13,
   "metadata": {},
   "outputs": [
    {
     "name": "stdout",
     "output_type": "stream",
     "text": [
      "当前进程id： 23640\n",
      "当前父进程的ID： 3576\n",
      "当前工作目录： f:\\python_learning\n",
      "修改后的工作目录： C:\\\n",
      "f:\\python_learning\n",
      "['.git', '123.txt', 'a.py', 'calculator.py', 'if_while.ipynb', 'if_while_test.py', 'Python中的面向对象.ipynb', 'README.md', 'test.ipynb', 'test.py', '__pycache__', '发明轮子和造轮子.ipynb', '猴子偷桃.py', '约瑟夫环的几种实现.py', '高级Python使用.ipynb']\n",
      "f:\\python_learning\\123.txt\n",
      "f:\\python_learning\\a.py\n",
      "f:\\python_learning\\calculator.py\n",
      "f:\\python_learning\\if_while.ipynb\n",
      "f:\\python_learning\\if_while_test.py\n",
      "f:\\python_learning\\Python中的面向对象.ipynb\n",
      "f:\\python_learning\\README.md\n",
      "f:\\python_learning\\test.ipynb\n",
      "f:\\python_learning\\test.py\n",
      "f:\\python_learning\\发明轮子和造轮子.ipynb\n",
      "f:\\python_learning\\猴子偷桃.py\n",
      "f:\\python_learning\\约瑟夫环的几种实现.py\n",
      "f:\\python_learning\\高级Python使用.ipynb\n",
      "f:\\python_learning\\.git\n",
      "f:\\python_learning\\__pycache__\n",
      "f:\\python_learning\\.git\\COMMIT_EDITMSG\n",
      "f:\\python_learning\\.git\\config\n",
      "f:\\python_learning\\.git\\description\n",
      "f:\\python_learning\\.git\\FETCH_HEAD\n",
      "f:\\python_learning\\.git\\HEAD\n",
      "f:\\python_learning\\.git\\index\n",
      "f:\\python_learning\\.git\\ORIG_HEAD\n",
      "f:\\python_learning\\.git\\hooks\n",
      "f:\\python_learning\\.git\\info\n",
      "f:\\python_learning\\.git\\logs\n",
      "f:\\python_learning\\.git\\objects\n",
      "f:\\python_learning\\.git\\refs\n",
      "f:\\python_learning\\.git\\hooks\\applypatch-msg.sample\n",
      "f:\\python_learning\\.git\\hooks\\commit-msg.sample\n",
      "f:\\python_learning\\.git\\hooks\\fsmonitor-watchman.sample\n",
      "f:\\python_learning\\.git\\hooks\\post-update.sample\n",
      "f:\\python_learning\\.git\\hooks\\pre-applypatch.sample\n",
      "f:\\python_learning\\.git\\hooks\\pre-commit.sample\n",
      "f:\\python_learning\\.git\\hooks\\pre-merge-commit.sample\n",
      "f:\\python_learning\\.git\\hooks\\pre-push.sample\n",
      "f:\\python_learning\\.git\\hooks\\pre-rebase.sample\n",
      "f:\\python_learning\\.git\\hooks\\pre-receive.sample\n",
      "f:\\python_learning\\.git\\hooks\\prepare-commit-msg.sample\n",
      "f:\\python_learning\\.git\\hooks\\push-to-checkout.sample\n",
      "f:\\python_learning\\.git\\hooks\\update.sample\n",
      "f:\\python_learning\\.git\\info\\exclude\n",
      "f:\\python_learning\\.git\\logs\\HEAD\n",
      "f:\\python_learning\\.git\\logs\\refs\n",
      "f:\\python_learning\\.git\\logs\\refs\\heads\n",
      "f:\\python_learning\\.git\\logs\\refs\\remotes\n",
      "f:\\python_learning\\.git\\logs\\refs\\heads\\main\n",
      "f:\\python_learning\\.git\\logs\\refs\\heads\\master\n",
      "f:\\python_learning\\.git\\logs\\refs\\remotes\\origin\n",
      "f:\\python_learning\\.git\\logs\\refs\\remotes\\origin\\main\n",
      "f:\\python_learning\\.git\\logs\\refs\\remotes\\origin\\master\n",
      "f:\\python_learning\\.git\\objects\\00\n",
      "f:\\python_learning\\.git\\objects\\09\n",
      "f:\\python_learning\\.git\\objects\\16\n",
      "f:\\python_learning\\.git\\objects\\1a\n",
      "f:\\python_learning\\.git\\objects\\22\n",
      "f:\\python_learning\\.git\\objects\\30\n",
      "f:\\python_learning\\.git\\objects\\34\n",
      "f:\\python_learning\\.git\\objects\\4c\n",
      "f:\\python_learning\\.git\\objects\\52\n",
      "f:\\python_learning\\.git\\objects\\61\n",
      "f:\\python_learning\\.git\\objects\\65\n",
      "f:\\python_learning\\.git\\objects\\73\n",
      "f:\\python_learning\\.git\\objects\\74\n",
      "f:\\python_learning\\.git\\objects\\90\n",
      "f:\\python_learning\\.git\\objects\\a3\n",
      "f:\\python_learning\\.git\\objects\\aa\n",
      "f:\\python_learning\\.git\\objects\\c0\n",
      "f:\\python_learning\\.git\\objects\\c3\n",
      "f:\\python_learning\\.git\\objects\\d6\n",
      "f:\\python_learning\\.git\\objects\\dd\n",
      "f:\\python_learning\\.git\\objects\\e2\n",
      "f:\\python_learning\\.git\\objects\\e6\n",
      "f:\\python_learning\\.git\\objects\\eb\n",
      "f:\\python_learning\\.git\\objects\\f2\n",
      "f:\\python_learning\\.git\\objects\\fe\n",
      "f:\\python_learning\\.git\\objects\\info\n",
      "f:\\python_learning\\.git\\objects\\pack\n",
      "f:\\python_learning\\.git\\objects\\00\\b192f09ad18efe116ef144671cf4672177900f\n",
      "f:\\python_learning\\.git\\objects\\09\\a37f8c02e98c88d270db9110a888892bd913a9\n",
      "f:\\python_learning\\.git\\objects\\16\\b86824a5cdd6c24d9554255da2a1a8aa053dc9\n",
      "f:\\python_learning\\.git\\objects\\1a\\0c1eabfb6529424a94688295638e02f79c22c0\n",
      "f:\\python_learning\\.git\\objects\\22\\991486e583d7a7ccf114570ed8e551d3a10725\n",
      "f:\\python_learning\\.git\\objects\\30\\638fba444cdb719f0a8e0e1d3bc37c8c74c2b3\n",
      "f:\\python_learning\\.git\\objects\\34\\3b2d4b890f55f9602db00e3f455fc87bd62ff7\n",
      "f:\\python_learning\\.git\\objects\\4c\\26af7295ee0cc4e3ba8e24244555ea890a7782\n",
      "f:\\python_learning\\.git\\objects\\52\\303cd3a9d011a5a2194b42773cc5e881917a54\n",
      "f:\\python_learning\\.git\\objects\\52\\a2195d22a4941ea0a9f3f760c03ec522de9d3f\n",
      "f:\\python_learning\\.git\\objects\\61\\953f3a9011a58ea0290da5d279f9c6202856c7\n",
      "f:\\python_learning\\.git\\objects\\65\\9d0246cc6c8d1868d06872240ed3e1926fcb63\n",
      "f:\\python_learning\\.git\\objects\\73\\1e2f2cd86f90c4b8f11c54e4ddeb831fc2f2e2\n",
      "f:\\python_learning\\.git\\objects\\74\\26838ff8967cdfea9b25e7727398318754972b\n",
      "f:\\python_learning\\.git\\objects\\90\\c01aba76e7c01e26e33ce5f3282b3175c5b389\n",
      "f:\\python_learning\\.git\\objects\\a3\\0c8be8e2354e1b50d1058bd1d242b0575927f9\n",
      "f:\\python_learning\\.git\\objects\\aa\\cc67ec2838f69e9f278c7bf6ab8971ff878152\n",
      "f:\\python_learning\\.git\\objects\\c0\\8c096e408d4bd6d98e19f6c9f7b5269e99e7b3\n",
      "f:\\python_learning\\.git\\objects\\c3\\2c07fae7381c1145c78ed8385ab3dab8e6932e\n",
      "f:\\python_learning\\.git\\objects\\d6\\49492e403b4a20429f842649ad93aa929a4dae\n",
      "f:\\python_learning\\.git\\objects\\dd\\7fc999e6d84f1fef3a68516ee947033ed98f54\n",
      "f:\\python_learning\\.git\\objects\\e2\\4f43e9cdec59698bd567addb97fb0736afc53b\n",
      "f:\\python_learning\\.git\\objects\\e6\\9de29bb2d1d6434b8b29ae775ad8c2e48c5391\n",
      "f:\\python_learning\\.git\\objects\\eb\\0a2e468a6ce223ea8e791479de451cd450f9b3\n",
      "f:\\python_learning\\.git\\objects\\f2\\53aec2d23030cae96c9b1905e57de9b4cd0278\n",
      "f:\\python_learning\\.git\\objects\\fe\\36b5d1b7b58c116a7c5bd4d3039745416d74e3\n",
      "f:\\python_learning\\.git\\refs\\heads\n",
      "f:\\python_learning\\.git\\refs\\remotes\n",
      "f:\\python_learning\\.git\\refs\\tags\n",
      "f:\\python_learning\\.git\\refs\\heads\\main\n",
      "f:\\python_learning\\.git\\refs\\heads\\master\n",
      "f:\\python_learning\\.git\\refs\\remotes\\origin\n",
      "f:\\python_learning\\.git\\refs\\remotes\\origin\\main\n",
      "f:\\python_learning\\.git\\refs\\remotes\\origin\\master\n",
      "f:\\python_learning\\__pycache__\\a.cpython-38.pyc\n",
      "f:\\python_learning\\__pycache__\\a1.cpython-38.pyc\n",
      "f:\\python_learning\\__pycache__\\atty.cpython-38.pyc\n",
      "f:\\python_learning\\__pycache__\\b.cpython-38.pyc\n",
      "f:\\python_learning\\__pycache__\\b1.cpython-38.pyc\n"
     ]
    }
   ],
   "source": [
    "import os\n",
    "print(\"当前进程id：\", os.getpid())    # 获取当前进程id\n",
    "\n",
    "print(\"当前父进程的ID：\", os.getppid())  # 获取当前父进程的ID\n",
    "\n",
    "cwd = os.getcwd()  # 获取当前工作目录\n",
    "print(\"当前工作目录：\", cwd)  # 打印出来\n",
    "\n",
    "os.chdir(\"C:\\\\\")    # 修改当前工作目录\n",
    "print(\"修改后的工作目录：\", os.getcwd())\n",
    "\n",
    "os.chdir(\"f:\\python_learning\")   # 恢复工作目录\n",
    "print(os.getcwd())\n",
    "\n",
    "print(os.listdir(cwd))   # 列出当前工作目录下的所有文件\n",
    "\n",
    "for root, dirs, files in os.walk(cwd):   # 遍历当前工作目录下的所有文件和文件夹, topdown=False表示从下往上遍历\n",
    "    for name in files:      # 遍历所有文件\n",
    "        print(os.path.join(root, name)) \n",
    "    for name in dirs:      # 遍历所有文件夹\n",
    "        print(os.path.join(root, name)) "
   ]
  },
  {
   "cell_type": "code",
   "execution_count": 20,
   "metadata": {},
   "outputs": [
    {
     "ename": "FileNotFoundError",
     "evalue": "[WinError 2] 系统找不到指定的文件。: '123.txt'",
     "output_type": "error",
     "traceback": [
      "\u001b[1;31m---------------------------------------------------------------------------\u001b[0m",
      "\u001b[1;31mFileNotFoundError\u001b[0m                         Traceback (most recent call last)",
      "Cell \u001b[1;32mIn[20], line 4\u001b[0m\n\u001b[0;32m      2\u001b[0m os\u001b[38;5;241m.\u001b[39mcurdir   \u001b[38;5;66;03m# 返回当前目录\u001b[39;00m\n\u001b[0;32m      3\u001b[0m os\u001b[38;5;241m.\u001b[39mpardir   \u001b[38;5;66;03m# 返回父目录\u001b[39;00m\n\u001b[1;32m----> 4\u001b[0m \u001b[43mos\u001b[49m\u001b[38;5;241;43m.\u001b[39;49m\u001b[43mremove\u001b[49m\u001b[43m(\u001b[49m\u001b[38;5;124;43m\"\u001b[39;49m\u001b[38;5;124;43m123.txt\u001b[39;49m\u001b[38;5;124;43m\"\u001b[39;49m\u001b[43m)\u001b[49m   \u001b[38;5;66;03m# 删除文件\u001b[39;00m\n\u001b[0;32m      5\u001b[0m os\u001b[38;5;241m.\u001b[39mremovedirs(\u001b[38;5;124m\"\u001b[39m\u001b[38;5;124m123\u001b[39m\u001b[38;5;124m\"\u001b[39m)   \u001b[38;5;66;03m# 删除文件夹\u001b[39;00m\n\u001b[0;32m      6\u001b[0m os\u001b[38;5;241m.\u001b[39mrename(\u001b[38;5;124m\"\u001b[39m\u001b[38;5;124m123.txt\u001b[39m\u001b[38;5;124m\"\u001b[39m,\u001b[38;5;124m\"\u001b[39m\u001b[38;5;124m1234.txt\u001b[39m\u001b[38;5;124m\"\u001b[39m)\n",
      "\u001b[1;31mFileNotFoundError\u001b[0m: [WinError 2] 系统找不到指定的文件。: '123.txt'"
     ]
    }
   ],
   "source": [
    "\"\"\"os文件操作\"\"\"\n",
    "os.curdir   # 返回当前目录\n",
    "os.pardir   # 返回父目录\n",
    "os.remove(\"123.txt\")   # 删除文件\n",
    "os.removedirs(\"123\")   # 删除文件夹\n",
    "os.rename(\"123.txt\",\"1234.txt\")  # 重命名文件"
   ]
  },
  {
   "cell_type": "code",
   "execution_count": 27,
   "metadata": {},
   "outputs": [
    {
     "name": "stdout",
     "output_type": "stream",
     "text": [
      "text.py的绝对路径： f:\\python_learning\\text.py\n",
      "text.py是否存在： True\n",
      "test.py的大小： 552\n",
      "test.py是否是文件： True\n",
      "test.py是否是目录： False\n"
     ]
    }
   ],
   "source": [
    "\"\"\"os.path文件路径操作\"\"\"\n",
    "import os.path as op\n",
    "print(\"text.py的绝对路径：\", op.abspath(\"text.py\"))   # 获取文件的绝对路径\n",
    "print(\"text.py是否存在：\",op.exists(\"test.py\"))  # 判断文件是否存在\n",
    "\n",
    "print(\"test.py的大小：\",op.getsize(\"test.py\"))   # 获取文件大小\n",
    "print(\"test.py是否是文件：\",op.isfile(\"test.py\"))   # 判断是否是文件\n",
    "\n",
    "print(\"test.py是否是目录：\",op.isdir(\"test.py\"))   # 判断是否是目录"
   ]
  },
  {
   "cell_type": "code",
   "execution_count": 29,
   "metadata": {},
   "outputs": [
    {
     "name": "stdout",
     "output_type": "stream",
     "text": [
      "0\n",
      "1\n",
      "2\n",
      "3\n",
      "4\n",
      "5\n"
     ]
    },
    {
     "ename": "SystemExit",
     "evalue": "0",
     "output_type": "error",
     "traceback": [
      "An exception has occurred, use %tb to see the full traceback.\n",
      "\u001b[1;31mSystemExit\u001b[0m\u001b[1;31m:\u001b[0m 0\n"
     ]
    }
   ],
   "source": [
    "\"\"\"sys模块的使用\"\"\"\n",
    "import sys\n",
    "for i in range(100):\n",
    "    print(i)\n",
    "    if i == 5:\n",
    "        sys.exit(0)   # 退出程序\n",
    "\"\"\"sys.exit([n])：此方法可以是当前程序退出，n为0时表示正常退出，其他值表示异常退出。\"\"\"\n",
    "\n"
   ]
  },
  {
   "cell_type": "code",
   "execution_count": 30,
   "metadata": {},
   "outputs": [
    {
     "data": {
      "text/plain": [
       "['f:\\\\Python_learning',\n",
       " 'c:\\\\Users\\\\李博\\\\AppData\\\\Local\\\\Programs\\\\Python\\\\Python38\\\\python38.zip',\n",
       " 'c:\\\\Users\\\\李博\\\\AppData\\\\Local\\\\Programs\\\\Python\\\\Python38\\\\DLLs',\n",
       " 'c:\\\\Users\\\\李博\\\\AppData\\\\Local\\\\Programs\\\\Python\\\\Python38\\\\lib',\n",
       " 'c:\\\\Users\\\\李博\\\\AppData\\\\Local\\\\Programs\\\\Python\\\\Python38',\n",
       " '',\n",
       " 'c:\\\\Users\\\\李博\\\\AppData\\\\Local\\\\Programs\\\\Python\\\\Python38\\\\lib\\\\site-packages',\n",
       " 'c:\\\\Users\\\\李博\\\\AppData\\\\Local\\\\Programs\\\\Python\\\\Python38\\\\lib\\\\site-packages\\\\win32',\n",
       " 'c:\\\\Users\\\\李博\\\\AppData\\\\Local\\\\Programs\\\\Python\\\\Python38\\\\lib\\\\site-packages\\\\win32\\\\lib',\n",
       " 'c:\\\\Users\\\\李博\\\\AppData\\\\Local\\\\Programs\\\\Python\\\\Python38\\\\lib\\\\site-packages\\\\Pythonwin']"
      ]
     },
     "execution_count": 30,
     "metadata": {},
     "output_type": "execute_result"
    }
   ],
   "source": [
    "\"\"\"sys.path：获取模块搜索路径。 \"\"\"\n",
    "sys.path"
   ]
  },
  {
   "cell_type": "code",
   "execution_count": 31,
   "metadata": {},
   "outputs": [
    {
     "data": {
      "text/plain": [
       "'win32'"
      ]
     },
     "execution_count": 31,
     "metadata": {},
     "output_type": "execute_result"
    }
   ],
   "source": [
    "\"\"\"sys.platform：获取操作系统平台。\"\"\"\n",
    "sys.platform"
   ]
  },
  {
   "cell_type": "code",
   "execution_count": 34,
   "metadata": {},
   "outputs": [
    {
     "name": "stdout",
     "output_type": "stream",
     "text": [
      "--f=c:\\Users\\李博\\AppData\\Roaming\\jupyter\\runtime\\kernel-v2-35768utE0fjkB0Ua.json\n"
     ]
    }
   ],
   "source": [
    "\"\"\"sys.argv从程序外部向程序传递参数，参数以列表的形式传递，第一个为当前文件名。\"\"\"\n",
    "print(sys.argv[1])"
   ]
  },
  {
   "cell_type": "code",
   "execution_count": null,
   "metadata": {},
   "outputs": [],
   "source": [
    "\"\"\"在命令行中切换到文件路径，并运行程序：\"\"\"\n",
    "python test.py hello "
   ]
  },
  {
   "cell_type": "code",
   "execution_count": 35,
   "metadata": {},
   "outputs": [
    {
     "data": {
      "text/plain": [
       "'3.8.10 (tags/v3.8.10:3d8993a, May  3 2021, 11:48:03) [MSC v.1928 64 bit (AMD64)]'"
      ]
     },
     "execution_count": 35,
     "metadata": {},
     "output_type": "execute_result"
    }
   ],
   "source": [
    "\"\"\"\"获取当前python解释器的版本信息\"\"\"\n",
    "sys.version"
   ]
  },
  {
   "cell_type": "code",
   "execution_count": 36,
   "metadata": {},
   "outputs": [
    {
     "data": {
      "text/plain": [
       "'utf-8'"
      ]
     },
     "execution_count": 36,
     "metadata": {},
     "output_type": "execute_result"
    }
   ],
   "source": [
    "\"\"\"获取默认编码格式\"\"\"\n",
    "sys.getdefaultencoding()"
   ]
  },
  {
   "cell_type": "code",
   "execution_count": 46,
   "metadata": {},
   "outputs": [
    {
     "name": "stdout",
     "output_type": "stream",
     "text": [
      "当前是时间为： 1713453063.2674978\n",
      "本地时间为： time.struct_time(tm_year=2024, tm_mon=4, tm_mday=18, tm_hour=23, tm_min=11, tm_sec=3, tm_wday=3, tm_yday=109, tm_isdst=0)\n",
      "格式化时间为： Thu Apr 18 23:11:03 2024\n",
      "time.struct_time(tm_year=2024, tm_mon=4, tm_mday=18, tm_hour=23, tm_min=11, tm_sec=3, tm_wday=3, tm_yday=109, tm_isdst=0)\n",
      "2024-04-18 23:11:03\n"
     ]
    }
   ],
   "source": [
    "\"\"\"time模块的练习\"\"\"\n",
    "import time\n",
    "time_now = time.time()   # 获取当前时间戳\n",
    "print(\"当前是时间为：\",time_now)\n",
    "\n",
    "localtime = time.localtime(time_now)  # 获取本地时间,返回一个struct_time的对象，捕获时间元组\n",
    "print(\"本地时间为：\",localtime)\n",
    "\n",
    "localtime = time.asctime(localtime)  # 将时间元组转换为字符串,获取格式化的时间\n",
    "print(\"格式化时间为：\",localtime)\n",
    "\n",
    "print(time.localtime())  # 获取当前时间\n",
    "print(time.strftime(\"%Y-%m-%d %H:%M:%S\", time.localtime()))  # 将时间元组转换为指定格式的字符串"
   ]
  },
  {
   "cell_type": "code",
   "execution_count": 55,
   "metadata": {},
   "outputs": [
    {
     "name": "stdout",
     "output_type": "stream",
     "text": [
      "2\n",
      "0.23521267605273077\n",
      "5.155819332326265\n",
      "w\n",
      "93\n",
      "['h', 'y', 'n']\n",
      "[4, 3, 5, 2, 1]\n"
     ]
    }
   ],
   "source": [
    "\"\"\"random模块的使用\"\"\"\n",
    "import random\n",
    "print(random.randint(1,10))  # 生成1-10之间的随机数\n",
    "\n",
    "print(random.random())   # 生成0-1之间的随机浮点数，包括0，不包括1\n",
    "\n",
    "print(random.uniform(1.1,5.4))  # 生成1.1-5.4之间的随机浮点数\n",
    "\n",
    "print(random.choice('tomorrow'))   # 从序列中随机选择一个元素\n",
    "\n",
    "print(random.randrange(1,100,2))   # 生成1-100之间的奇数\n",
    "\n",
    "print(random.sample(\"python\",3))  # 从序列中随机选择3个元素\n",
    "\n",
    "l = [1,2,3,4,5]\n",
    "random.shuffle(l)   # 打乱列表\n",
    "print(l)"
   ]
  },
  {
   "cell_type": "code",
   "execution_count": null,
   "metadata": {},
   "outputs": [],
   "source": []
  }
 ],
 "metadata": {
  "kernelspec": {
   "display_name": "Python 3",
   "language": "python",
   "name": "python3"
  },
  "language_info": {
   "codemirror_mode": {
    "name": "ipython",
    "version": 3
   },
   "file_extension": ".py",
   "mimetype": "text/x-python",
   "name": "python",
   "nbconvert_exporter": "python",
   "pygments_lexer": "ipython3",
   "version": "3.8.10"
  }
 },
 "nbformat": 4,
 "nbformat_minor": 2
}
