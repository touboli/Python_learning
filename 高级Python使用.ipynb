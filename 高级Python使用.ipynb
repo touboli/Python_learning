{
 "cells": [
  {
   "cell_type": "code",
   "execution_count": 3,
   "metadata": {},
   "outputs": [
    {
     "data": {
      "text/plain": [
       "[0, 1, 1, 2, 3, 5, 8, 13, 21, 34]"
      ]
     },
     "execution_count": 3,
     "metadata": {},
     "output_type": "execute_result"
    }
   ],
   "source": [
    "def fibonacciS():\n",
    "    result=[0,1]\n",
    "    for i in range(2,10):\n",
    "        a = result[i-1]+result[i-2]\n",
    "        result.append(a)\n",
    "    return result\n",
    "fibonacciS()"
   ]
  },
  {
   "cell_type": "code",
   "execution_count": 4,
   "metadata": {},
   "outputs": [
    {
     "name": "stdout",
     "output_type": "stream",
     "text": [
      "\n",
      "へ     \n",
      "/＼7    \n",
      "／| \n",
      "∠＿/ \n",
      "/ │   ／ ／ \n",
      "│ Z ＿,＜ ／   /`ヽ \n",
      "│     \n",
      "Y     \n",
      "ヽ   /  〉 \n",
      "`  /  / \n",
      "ｲ● ､ ●  ⊂⊃〈  / \n",
      "()  へ    \n",
      "| ＼〈 \n",
      ">ｰ ､_  ィ  │ ／／ \n",
      "/ へ   \n",
      "/ ﾉ＜| ＼＼ \n",
      "ヽ_ﾉ  (_／  │／／ \n",
      "7       \n",
      "|／ \n",
      "＞―r￣￣`ｰ―＿\n",
      "None\n"
     ]
    }
   ],
   "source": [
    "def pikachu():\n",
    "    print(\"\"\"\n",
    "へ     \n",
    "/＼7    \n",
    "／| \n",
    "∠＿/ \n",
    "/ │   ／ ／ \n",
    "│ Z ＿,＜ ／   /`ヽ \n",
    "│     \n",
    "Y     \n",
    "ヽ   /  〉 \n",
    "`  /  / \n",
    "ｲ● ､ ●  ⊂⊃〈  / \n",
    "()  へ    \n",
    "| ＼〈 \n",
    ">ｰ ､_  ィ  │ ／／ \n",
    "/ へ   \n",
    "/ ﾉ＜| ＼＼ \n",
    "ヽ_ﾉ  (_／  │／／ \n",
    "7       \n",
    "|／ \n",
    "＞―r￣￣`ｰ―＿\"\"\")\n",
    "a = pikachu()\n",
    "print(a)"
   ]
  },
  {
   "cell_type": "code",
   "execution_count": 6,
   "metadata": {},
   "outputs": [
    {
     "data": {
      "text/plain": [
       "('a', 'b', 'c')"
      ]
     },
     "execution_count": 6,
     "metadata": {},
     "output_type": "execute_result"
    }
   ],
   "source": [
    "def test():\n",
    "    a = \"a\"\n",
    "    b = \"b\"\n",
    "    c = \"c\"\n",
    "    return a,b,c\n",
    "test()"
   ]
  },
  {
   "cell_type": "code",
   "execution_count": 10,
   "metadata": {},
   "outputs": [
    {
     "name": "stdout",
     "output_type": "stream",
     "text": [
      "World\n",
      "Hello\n"
     ]
    }
   ],
   "source": [
    "def func1():\n",
    "    print(\"World\")\n",
    "    def func2():\n",
    "        print(\"Hello\")\n",
    "    return func2\n",
    "b = func1()\n",
    "b()\n"
   ]
  },
  {
   "cell_type": "code",
   "execution_count": 12,
   "metadata": {},
   "outputs": [
    {
     "data": {
      "text/plain": [
       "6"
      ]
     },
     "execution_count": 12,
     "metadata": {},
     "output_type": "execute_result"
    }
   ],
   "source": [
    "def add(a,b,c):\n",
    "    return a+b+c\n",
    "add(1,2,3)\n",
    "add(a = 3,b = 2,c = 1)\n"
   ]
  },
  {
   "cell_type": "code",
   "execution_count": 15,
   "metadata": {},
   "outputs": [
    {
     "data": {
      "text/plain": [
       "7"
      ]
     },
     "execution_count": 15,
     "metadata": {},
     "output_type": "execute_result"
    }
   ],
   "source": [
    "def add(a=1,b=2,c=3):\n",
    "    return a+b+c\n",
    "add()\n",
    "add(3)\n",
    "add(b=3)"
   ]
  },
  {
   "cell_type": "code",
   "execution_count": 16,
   "metadata": {},
   "outputs": [
    {
     "name": "stdout",
     "output_type": "stream",
     "text": [
      "(1, 2, 3, 4, 5, 6, 7, 8, 9, 10)\n"
     ]
    },
    {
     "data": {
      "text/plain": [
       "55"
      ]
     },
     "execution_count": 16,
     "metadata": {},
     "output_type": "execute_result"
    }
   ],
   "source": [
    "def add(*args):\n",
    "    print(args)\n",
    "    return sum(args)\n",
    "add(1,2,3,4,5,6,7,8,9,10)"
   ]
  },
  {
   "cell_type": "code",
   "execution_count": 18,
   "metadata": {},
   "outputs": [
    {
     "name": "stdout",
     "output_type": "stream",
     "text": [
      "{'a': 1, 'b': 2, 'c': 3, 'd': 4, 'e': 5, 'f': 6, 'g': 7, 'h': 8, 'i': 9, 'j': 10}\n",
      "<class 'dict'>\n"
     ]
    },
    {
     "data": {
      "text/plain": [
       "55"
      ]
     },
     "execution_count": 18,
     "metadata": {},
     "output_type": "execute_result"
    }
   ],
   "source": [
    "def add(**args):\n",
    "    print(args)\n",
    "    print(type(args))\n",
    "    return sum(args.values())\n",
    "add(a=1,b=2,c=3,d=4,e=5,f=6,g=7,h=8,i=9,j=10)"
   ]
  },
  {
   "cell_type": "code",
   "execution_count": 19,
   "metadata": {},
   "outputs": [
    {
     "name": "stdout",
     "output_type": "stream",
     "text": [
      "arg1:  100\n",
      "arg2:  200\n",
      "kwargs:  {'key1': 1, 'key2': 2}\n"
     ]
    }
   ],
   "source": [
    "d = {'key1': 1, 'key2': 2, 'arg1': 100, 'arg2': 200}\n",
    "def func_kwargs_positional(arg1, arg2, **kwargs):\n",
    "    print('arg1: ', arg1)\n",
    "    print('arg2: ', arg2)\n",
    "    print('kwargs: ', kwargs)\n",
    "func_kwargs_positional(**d)"
   ]
  },
  {
   "cell_type": "code",
   "execution_count": 26,
   "metadata": {},
   "outputs": [
    {
     "name": "stdout",
     "output_type": "stream",
     "text": [
      "{}\n",
      "(1, 2, 3, 4)\n",
      "<class 'dict'>\n",
      "<class 'tuple'>\n"
     ]
    }
   ],
   "source": [
    "def add(a,b=1,*kwargs,**args,):\n",
    "    print(args)\n",
    "    print(kwargs)\n",
    "    print(type(args))\n",
    "    print(type(kwargs))\n",
    "add(1,0,1,2,3,4,)"
   ]
  },
  {
   "cell_type": "code",
   "execution_count": 27,
   "metadata": {},
   "outputs": [
    {
     "name": "stdout",
     "output_type": "stream",
     "text": [
      "Help on function add in module __main__:\n",
      "\n",
      "add(a, b)\n",
      "    用于计算两个数字之和\n",
      "    param a: int 类型\n",
      "    param b: int 类型\n",
      "    return: a+b\n",
      "\n"
     ]
    }
   ],
   "source": [
    "def add(a,b):\n",
    "    \"\"\"\n",
    "    用于计算两个数字之和\n",
    "    param a: int 类型\n",
    "    param b: int 类型\n",
    "    return: a+b\n",
    "    \"\"\"\n",
    "    return a+b\n",
    "help(add)"
   ]
  },
  {
   "cell_type": "code",
   "execution_count": 28,
   "metadata": {},
   "outputs": [
    {
     "name": "stdout",
     "output_type": "stream",
     "text": [
      "10\n"
     ]
    }
   ],
   "source": [
    "a = 10\n",
    "def func():\n",
    "    print(a)\n",
    "func()"
   ]
  },
  {
   "cell_type": "code",
   "execution_count": 4,
   "metadata": {},
   "outputs": [
    {
     "name": "stdout",
     "output_type": "stream",
     "text": [
      "10\n"
     ]
    },
    {
     "data": {
      "text/plain": [
       "11"
      ]
     },
     "execution_count": 4,
     "metadata": {},
     "output_type": "execute_result"
    }
   ],
   "source": [
    "a = 10\n",
    "def func():\n",
    "    global a\n",
    "    print(a)\n",
    "    a += 1\n",
    "    return a\n",
    "func()"
   ]
  },
  {
   "cell_type": "code",
   "execution_count": 5,
   "metadata": {},
   "outputs": [
    {
     "name": "stdout",
     "output_type": "stream",
     "text": [
      "Jerry\n"
     ]
    }
   ],
   "source": [
    "name = \"Tom\"\n",
    "def func():\n",
    "    name = \"Jerry\"\n",
    "    print(name)\n",
    "func()"
   ]
  },
  {
   "cell_type": "code",
   "execution_count": 33,
   "metadata": {},
   "outputs": [
    {
     "name": "stdout",
     "output_type": "stream",
     "text": [
      "Jerry\n"
     ]
    }
   ],
   "source": [
    "name = \"Tom\"\n",
    "def func():\n",
    "    global name\n",
    "    name = \"Jerry\"\n",
    "    print(name)\n",
    "func()"
   ]
  },
  {
   "cell_type": "code",
   "execution_count": 7,
   "metadata": {},
   "outputs": [
    {
     "name": "stdout",
     "output_type": "stream",
     "text": [
      "[1, 2, 3, 4, 5, 6]\n",
      "[1, 2, 3, 4, 5, 6, 6]\n",
      "[1, 2, 3, 4, 5, 6, 6, 6]\n",
      "[1, 2, 3, 4, 5, 6, 6, 6, 6]\n"
     ]
    }
   ],
   "source": [
    "l = [1,2,3,4,5]\n",
    "def func():\n",
    "    l.append(6)\n",
    "    print(l)\n",
    "for i in range(3):\n",
    "    func()\n",
    "func()"
   ]
  },
  {
   "cell_type": "code",
   "execution_count": 8,
   "metadata": {},
   "outputs": [
    {
     "data": {
      "text/plain": [
       "3"
      ]
     },
     "execution_count": 8,
     "metadata": {},
     "output_type": "execute_result"
    }
   ],
   "source": [
    "y = lambda x1,x2:x1+x2\n",
    "y(1,2)"
   ]
  },
  {
   "cell_type": "code",
   "execution_count": 9,
   "metadata": {},
   "outputs": [
    {
     "name": "stdout",
     "output_type": "stream",
     "text": [
      "1\n",
      "3\n",
      "2\n"
     ]
    }
   ],
   "source": [
    "print(1)\n",
    "def func():\n",
    "    print(2)\n",
    "print(3)\n",
    "func()"
   ]
  },
  {
   "cell_type": "code",
   "execution_count": 10,
   "metadata": {},
   "outputs": [
    {
     "name": "stdout",
     "output_type": "stream",
     "text": [
      "9\n",
      "9\n",
      "9\n",
      "9\n"
     ]
    }
   ],
   "source": [
    "def func():\n",
    "    temp = [lambda x:x*i for i in range(4)]\n",
    "    return temp\n",
    "for m in func():\n",
    "    print(m(3))"
   ]
  },
  {
   "cell_type": "code",
   "execution_count": 11,
   "metadata": {},
   "outputs": [
    {
     "name": "stdout",
     "output_type": "stream",
     "text": [
      "9\n"
     ]
    }
   ],
   "source": [
    "def add(x,y,f):\n",
    "    return f(x)+f(y)\n",
    "print(add(3,-6,abs))"
   ]
  },
  {
   "cell_type": "code",
   "execution_count": 14,
   "metadata": {},
   "outputs": [
    {
     "name": "stdout",
     "output_type": "stream",
     "text": [
      "(1, 'A', 'a')\n",
      "<class 'tuple'>\n",
      "(2, 'B', 'b')\n",
      "<class 'tuple'>\n",
      "(3, 'C', 'c')\n",
      "<class 'tuple'>\n",
      "(4, 'D', 'd')\n",
      "<class 'tuple'>\n",
      "(5, 'E', 'e')\n",
      "<class 'tuple'>\n",
      "(6, 'F', 'f')\n",
      "<class 'tuple'>\n",
      "(7, 'G', 'g')\n",
      "<class 'tuple'>\n",
      "(8, 'H', 'h')\n",
      "<class 'tuple'>\n",
      "(9, 'I', 'i')\n",
      "<class 'tuple'>\n",
      "(10, 'J', 'j')\n",
      "<class 'tuple'>\n"
     ]
    }
   ],
   "source": [
    "a=[1,2,3,4,5,6,7,8,9,10]\n",
    "b=\"ABCDEFGHIJ\"\n",
    "c = ['a','b','c','d','e','f','g','h','i','j']\n",
    "for i in zip(a,b,c):\n",
    "    print(i)\n",
    "    print(type(i))"
   ]
  },
  {
   "cell_type": "code",
   "execution_count": 16,
   "metadata": {},
   "outputs": [
    {
     "name": "stdout",
     "output_type": "stream",
     "text": [
      "[0, 1, 2, 2, 3, 4, 5, 5, 6, 7, 8, 9]\n",
      "[9, 8, 7, 6, 5, 5, 4, 3, 2, 2, 1, 0]\n",
      "[4, 6, 2, 2, 8, 0, 1, 5, 3, 5, 7, 9]\n"
     ]
    }
   ],
   "source": [
    "l = [1,4,6,2,5,3,2,5,7,8,9,0]\n",
    "print(sorted(l))\n",
    "print(sorted(l,reverse=True))\n",
    "print(sorted(l,key=lambda x:x%2))"
   ]
  },
  {
   "cell_type": "code",
   "execution_count": 20,
   "metadata": {},
   "outputs": [
    {
     "name": "stdout",
     "output_type": "stream",
     "text": [
      "<class 'map'>\n",
      "[2, 5, 10, 17, 26]\n",
      "<map object at 0x00000274DF573700>\n"
     ]
    }
   ],
   "source": [
    "f = lambda x:x**2+1\n",
    "l = [1,2,3,4,5]\n",
    "r = map(f,l)\n",
    "print(type(r))\n",
    "print(list(r))"
   ]
  },
  {
   "cell_type": "code",
   "execution_count": 21,
   "metadata": {},
   "outputs": [
    {
     "data": {
      "text/plain": [
       "13579"
      ]
     },
     "execution_count": 21,
     "metadata": {},
     "output_type": "execute_result"
    }
   ],
   "source": [
    "from functools import reduce\n",
    "def fn(x,y):\n",
    "    return x*10+y\n",
    "reduce(fn,[1,3,5,7,9])"
   ]
  },
  {
   "cell_type": "code",
   "execution_count": 24,
   "metadata": {},
   "outputs": [
    {
     "data": {
      "text/plain": [
       "[0, 1, 5, 8, 9, 10]"
      ]
     },
     "execution_count": 24,
     "metadata": {},
     "output_type": "execute_result"
    }
   ],
   "source": [
    "def quick_sort(arr):\n",
    "    if len(arr)<2:\n",
    "        return arr\n",
    "    mid = arr[len(arr)//2]\n",
    "    left,right = [],[]\n",
    "    arr.remove(mid)\n",
    "    for item in arr:\n",
    "        if item >= mid:\n",
    "            right.append(item)\n",
    "        else:\n",
    "            left.append(item)\n",
    "    return quick_sort(left) + [mid] + quick_sort(right)\n",
    "quick_sort([1,10,9,5,8,0])"
   ]
  },
  {
   "cell_type": "code",
   "execution_count": null,
   "metadata": {},
   "outputs": [],
   "source": []
  }
 ],
 "metadata": {
  "kernelspec": {
   "display_name": "Python 3",
   "language": "python",
   "name": "python3"
  },
  "language_info": {
   "codemirror_mode": {
    "name": "ipython",
    "version": 3
   },
   "file_extension": ".py",
   "mimetype": "text/x-python",
   "name": "python",
   "nbconvert_exporter": "python",
   "pygments_lexer": "ipython3",
   "version": "3.8.10"
  }
 },
 "nbformat": 4,
 "nbformat_minor": 2
}
