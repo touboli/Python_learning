{
 "cells": [
  {
   "cell_type": "code",
   "execution_count": 1,
   "metadata": {},
   "outputs": [
    {
     "name": "stdout",
     "output_type": "stream",
     "text": [
      "13579\n"
     ]
    }
   ],
   "source": [
    "from functools import reduce\n",
    "def fn(x,y):\n",
    "    return x*10+y\n",
    "reduce(fn,[1,3,5,7,9])\n",
    "#reduce把结果继续和序列的下一个元素做累积计算\n",
    "print(reduce(fn,[1,3,5,7,9]))"
   ]
  },
  {
   "cell_type": "code",
   "execution_count": 6,
   "metadata": {},
   "outputs": [
    {
     "name": "stdout",
     "output_type": "stream",
     "text": [
      "['A', 'B', 'C']\n"
     ]
    }
   ],
   "source": [
    "def not_empty(s):\n",
    "    return s and s.strip()\n",
    "#filter()函数用于过滤序列\n",
    "print(list(filter(not_empty,['A','','B',None,'C',' '])))"
   ]
  },
  {
   "cell_type": "code",
   "execution_count": 1,
   "metadata": {},
   "outputs": [
    {
     "name": "stdout",
     "output_type": "stream",
     "text": [
      "[5, 9, -12, -21, 36]\n",
      "[36, 5, -12, 9, -21]\n",
      "[36, 9, 5, -12, -21]\n"
     ]
    }
   ],
   "source": [
    "i = [36,5,-12,9,-21]\n",
    "sorted(i)\n",
    "print(sorted(i,key=abs))\n",
    "print(i)\n",
    "i.sort(reverse=True)\n",
    "print(i)\n"
   ]
  },
  {
   "cell_type": "code",
   "execution_count": 3,
   "metadata": {},
   "outputs": [
    {
     "name": "stdout",
     "output_type": "stream",
     "text": [
      "['The', 'quick', 'brown', 'fox', 'jumps', 'over', 'the', 'lazy', 'dog']\n"
     ]
    }
   ],
   "source": [
    "import re\n",
    "text = 'The quick brown fox jumps over the lazy dog.'\n",
    "matchs = re.findall(r'\\b\\w{3,5}\\b',text)\n",
    "print(matchs)"
   ]
  },
  {
   "cell_type": "code",
   "execution_count": 13,
   "metadata": {},
   "outputs": [
    {
     "name": "stdout",
     "output_type": "stream",
     "text": [
      "['support+@example.com', 'sales@example.com', 'info@example.com']\n"
     ]
    }
   ],
   "source": [
    "text1 = 'Contact us at: support@example.com, sales@example.com, info@example.com.'\n",
    "emails = re.findall(r'([a-zA-Z0-9._%-+]+@[a-zA-Z0-9.-]+\\.[a-zA-Z]{2,})',text1)\n",
    "print(emails)"
   ]
  },
  {
   "cell_type": "code",
   "execution_count": 49,
   "metadata": {},
   "outputs": [
    {
     "name": "stdout",
     "output_type": "stream",
     "text": [
      "1\n",
      "<function f1.<locals>.f2 at 0x00000242A19B8EE0>\n",
      "('touboli',)\n",
      "321\n"
     ]
    },
    {
     "data": {
      "text/plain": [
       "('maste',)"
      ]
     },
     "execution_count": 49,
     "metadata": {},
     "output_type": "execute_result"
    }
   ],
   "source": [
    "touboli =123\n",
    "def f1(a,b,c,*d,e,f):\n",
    "    maste = 1\n",
    "    global touboli\n",
    "    touboli = 321\n",
    "    def f2():\n",
    "        print(maste)\n",
    "    return f2 #d是一个元组，接收传入的多余参数\n",
    "func = f1(1,2,3,4,5,6,7,e=8,f=9)\n",
    "func()\n",
    "print(f1(1,2,3,4,5,6,7,e=8,f=9))\n",
    "print(f1.__code__.co_names)\n",
    "print(touboli)\n",
    "f1.__code__.co_consts #返回函数中的常量\n",
    "f1.__code__.co_filename #返回函数所在的文件名\n",
    "f1.__code__.co_name #返回函数的名字\n",
    "f1.__code__.co_firstlineno #返回函数在文件中的第一行\n",
    "f1.__code__.co_varnames #返回函数的参数名\n",
    "func.__code__.co_freevars #返回自由变量"
   ]
  },
  {
   "cell_type": "code",
   "execution_count": 5,
   "metadata": {},
   "outputs": [
    {
     "data": {
      "text/plain": [
       "('count',)"
      ]
     },
     "execution_count": 5,
     "metadata": {},
     "output_type": "execute_result"
    }
   ],
   "source": [
    "def g():\n",
    "    count = 0\n",
    "    def f():\n",
    "        nonlocal count\n",
    "        count += 1\n",
    "        print(count)    #count是自由变量\n",
    "    return f\n",
    "h=g()\n",
    "h.__code__.co_freevars\n"
   ]
  },
  {
   "cell_type": "code",
   "execution_count": 8,
   "metadata": {},
   "outputs": [
    {
     "name": "stdout",
     "output_type": "stream",
     "text": [
      "n = 0\n",
      "n = 10\n",
      "10\n"
     ]
    }
   ],
   "source": [
    "def sample():\n",
    "    n = 0\n",
    "    # 闭包函数\n",
    "    def func():\n",
    "        print(\"n =\", n)\n",
    "    \n",
    "    # 存取函数(accessor function)，即getter/setter方法\n",
    "    def get_n():\n",
    "        return n\n",
    "\n",
    "    def set_n(value):\n",
    "        # 必须要加nolocal才能修改保存的自由变量\n",
    "        nonlocal n\n",
    "        n = value\n",
    "\n",
    "    # 绑定方法\n",
    "    func.get_n = get_n\n",
    "    func.set_n = set_n\n",
    "    return func\n",
    "f = sample()\n",
    "f() # n = 0\n",
    "f.set_n(10)\n",
    "f() # n = 10\n",
    "print(f.get_n()) # 10"
   ]
  },
  {
   "cell_type": "code",
   "execution_count": null,
   "metadata": {},
   "outputs": [],
   "source": []
  }
 ],
 "metadata": {
  "kernelspec": {
   "display_name": "Python 3",
   "language": "python",
   "name": "python3"
  },
  "language_info": {
   "codemirror_mode": {
    "name": "ipython",
    "version": 3
   },
   "file_extension": ".py",
   "mimetype": "text/x-python",
   "name": "python",
   "nbconvert_exporter": "python",
   "pygments_lexer": "ipython3",
   "version": "3.8.10"
  }
 },
 "nbformat": 4,
 "nbformat_minor": 2
}
