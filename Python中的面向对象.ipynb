{
 "cells": [
  {
   "cell_type": "code",
   "execution_count": 3,
   "metadata": {},
   "outputs": [
    {
     "name": "stdout",
     "output_type": "stream",
     "text": [
      "Laomugou is now sitting\n",
      "Laomugou is now rolling over\n"
     ]
    }
   ],
   "source": [
    "\"\"\"类的创建和使用\"\"\"\n",
    "class Dog():\n",
    "    \"\"\"一次模拟小狗的简单尝试\"\"\"\n",
    "    def __init__(self, name,age):\n",
    "        self.name = name\n",
    "        self.age = age\n",
    "    def sit(self):\n",
    "        \"\"\"\"模拟小狗被命令时蹲下\"\"\"\n",
    "        print(self.name.title() +\" is now sitting\")\n",
    "    def roll_over(self):\n",
    "        \"\"\"模拟小狗被命令时打滚\"\"\"\n",
    "        print(self.name.title() +\" is now rolling over\")\n",
    "dog = Dog('laomugou',6)\n",
    "dog.sit()\n",
    "dog.roll_over()"
   ]
  },
  {
   "cell_type": "code",
   "execution_count": 7,
   "metadata": {},
   "outputs": [
    {
     "name": "stdout",
     "output_type": "stream",
     "text": [
      "Name: touboli ,Salary: 30000\n",
      "Name: mary ,Salary: 3000\n",
      "Total Employee 2\n"
     ]
    }
   ],
   "source": [
    "\"\"\"访问实例化对象中的属性，object相加就加，是默认继承的，那个位置是用来指定继承的\"\"\"\n",
    "class Emploryee():\n",
    "    '所有员工的基类'\n",
    "    empcount = 0\n",
    "    def __init__(self, name, salary):\n",
    "        self.name = name\n",
    "        self.salary = salary\n",
    "        Emploryee.empcount += 1\n",
    "    def displayCount(self):\n",
    "        print(\"Total Employee %d\" % Emploryee.empcount)\n",
    "    def displayEmployee(self):\n",
    "        print(\"Name:\",self.name,\",Salary:\",self.salary)\n",
    "\n",
    "emp1 = Emploryee(\"touboli\",30000)\n",
    "emp2 = Emploryee(\"mary\",3000)\n",
    "\n",
    "emp1.displayEmployee()\n",
    "emp2.displayEmployee()\n",
    "print(\"Total Employee %d\" % Emploryee.empcount)"
   ]
  },
  {
   "cell_type": "code",
   "execution_count": 12,
   "metadata": {},
   "outputs": [
    {
     "name": "stdout",
     "output_type": "stream",
     "text": [
      "red\n",
      "我是猫，我会吃鱼\n"
     ]
    }
   ],
   "source": [
    "\"\"\"动态的为类和对象添加属性和方法，self是指向实例本身的指针，\n",
    "类似于this指针，可以访问类的属性和方法，如果不在函数中指定self，\n",
    "则访问不了类的属性和方法\"\"\"\n",
    "class Cat():\n",
    "    def __init__(self,name,age):\n",
    "        self.name = name\n",
    "        self.age = age\n",
    "cat = Cat('xiaohua',3)\n",
    "cat.color = 'red'\n",
    "print(cat.color)\n",
    "\"\"\"为类添加办法\"\"\"\n",
    "def eat():\n",
    "    print(\"我是猫，我会吃鱼\")\n",
    "cat.eat = eat\n",
    "cat.eat()"
   ]
  },
  {
   "cell_type": "code",
   "execution_count": 14,
   "metadata": {},
   "outputs": [
    {
     "name": "stdout",
     "output_type": "stream",
     "text": [
      "10\n"
     ]
    },
    {
     "ename": "TypeError",
     "evalue": "bark() missing 1 required positional argument: 'self'",
     "output_type": "error",
     "traceback": [
      "\u001b[1;31m---------------------------------------------------------------------------\u001b[0m",
      "\u001b[1;31mTypeError\u001b[0m                                 Traceback (most recent call last)",
      "Cell \u001b[1;32mIn[14], line 10\u001b[0m\n\u001b[0;32m      7\u001b[0m cat2 \u001b[38;5;241m=\u001b[39m Cat(\u001b[38;5;124m'\u001b[39m\u001b[38;5;124mxiaohua\u001b[39m\u001b[38;5;124m'\u001b[39m,\u001b[38;5;241m3\u001b[39m)\n\u001b[0;32m      9\u001b[0m \u001b[38;5;28mprint\u001b[39m(cat\u001b[38;5;241m.\u001b[39mweight)\n\u001b[1;32m---> 10\u001b[0m \u001b[43mcat\u001b[49m\u001b[38;5;241;43m.\u001b[39;49m\u001b[43mbark\u001b[49m\u001b[43m(\u001b[49m\u001b[43m)\u001b[49m\n\u001b[0;32m     11\u001b[0m \u001b[38;5;28mprint\u001b[39m(cat2\u001b[38;5;241m.\u001b[39mweight)\n\u001b[0;32m     12\u001b[0m cat2\u001b[38;5;241m.\u001b[39mbark()\n",
      "\u001b[1;31mTypeError\u001b[0m: bark() missing 1 required positional argument: 'self'"
     ]
    }
   ],
   "source": [
    "\"\"\"在对类添加属性和方法时，对应的实例化的对象也\n",
    "会受到影响，报错的原因是因为只添加了cat对象的方法，\n",
    "而Cat类的对象cat2并没有添加对应的方法和属性，所以会报错\"\"\"\n",
    "cat.weight = 10\n",
    "def bark():\n",
    "    print(\"mua mua mua\")\n",
    "cat.bark = bark\n",
    "\n",
    "cat2 = Cat('xiaohua',3)\n",
    "\n",
    "print(cat.weight)\n",
    "cat.bark()\n",
    "print(cat2.weight)\n",
    "cat2.bark()"
   ]
  },
  {
   "cell_type": "code",
   "execution_count": 15,
   "metadata": {},
   "outputs": [
    {
     "name": "stdout",
     "output_type": "stream",
     "text": [
      "调用子类构造函数\n",
      "调用子类方法\n",
      "调用父类方法\n",
      "父类属性： 100\n",
      "父类属性： 200\n"
     ]
    }
   ],
   "source": [
    "\"\"\"面向对象中继承的使用\"\"\"\n",
    "class Parent():\n",
    "    parentAttr = 100\n",
    "    def __init__(self):\n",
    "        print(\"调用父类构造函数\")\n",
    "    def parentMethod(self):\n",
    "        print(\"调用父类方法\")\n",
    "    def setAttr(self,attr):\n",
    "        Parent.parentAttr = attr\n",
    "    def getAttr(self):\n",
    "        print(\"父类属性：\",Parent.parentAttr)\n",
    "\n",
    "class Child(Parent):  #定义子类\n",
    "    def __init__(self):\n",
    "        print(\"调用子类构造函数\")\n",
    "    def childMethod(self):\n",
    "        print(\"调用子类方法\")\n",
    "\n",
    "c = Child()   #实例化子类\n",
    "c.childMethod()  #调用子类的方法\n",
    "c.parentMethod()   #调用父类的方法\n",
    "c.getAttr()   #调用父类的方法,获取属性值\n",
    "c.setAttr(200)   #再次调用父类的方法,设置属性值\n",
    "c.getAttr()   #再次调用父类的方法,获取属性值\n",
    "\n"
   ]
  },
  {
   "cell_type": "code",
   "execution_count": 20,
   "metadata": {},
   "outputs": [
    {
     "name": "stdout",
     "output_type": "stream",
     "text": [
      "调用Dog1构造函数\n",
      "调用Wolf构造函数\n",
      "3捕猎了沙发\n",
      "狗在吃 骨头\n",
      "狗在叫\n",
      "破坏\n"
     ]
    }
   ],
   "source": [
    "\"\"\"使用多继承的方式创建新类\"\"\"\n",
    "\"\"\"创建父类Dog1\"\"\"\n",
    "class Dog1():\n",
    "    def __init__(self,age,name):\n",
    "        self.age = age\n",
    "        self.name = name\n",
    "        print(\"调用Dog1构造函数\")\n",
    "    def eat(self,food):\n",
    "        print(\"狗在吃\",food)\n",
    "    def bark(self):\n",
    "        print(\"狗在叫\")\n",
    "\"\"\"创建父类Wolf\"\"\"\n",
    "class Wolf():\n",
    "    def __init__(self,name,color):\n",
    "        self.name = name\n",
    "        self.color = color\n",
    "        print(\"调用Wolf构造函数\")\n",
    "    def bark(self):\n",
    "        print(\"狼在叫\")\n",
    "    def hunt(self,prey):\n",
    "        print(\"%s捕猎了%s\" %(self.name,prey))\n",
    "\n",
    "\"\"\"创建子类Husky\"\"\"\n",
    "class Husky(Dog1,Wolf):\n",
    "    def __init__(self, age, name, color):\n",
    "        Dog1.__init__(self, age, name)\n",
    "        Wolf.__init__(self, name, color)\n",
    "    def destory(self,master):\n",
    "        if not master:\n",
    "            print(\"破坏\")\n",
    "husky = Husky(name=3,age='xiaohua',color='red')  \n",
    "\"\"\"默认只继承第一个父类的构造函数，如果想继承第二个父类的构造函数，需要指定参数，\n",
    "def __init__(self, age, name, color):\n",
    "    Dog1.__init__(self, age, name)\n",
    "    Wolf.__init__(self, name, color)\"\"\"\n",
    "husky.hunt(\"沙发\")\n",
    "husky.eat(\"骨头\")\n",
    "husky.bark()\n",
    "husky.destory(0)\n",
    "\n",
    "    "
   ]
  },
  {
   "cell_type": "code",
   "execution_count": 19,
   "metadata": {},
   "outputs": [
    {
     "ename": "AttributeError",
     "evalue": "'Child' object has no attribute 'friend'",
     "output_type": "error",
     "traceback": [
      "\u001b[1;31m---------------------------------------------------------------------------\u001b[0m",
      "\u001b[1;31mAttributeError\u001b[0m                            Traceback (most recent call last)",
      "Cell \u001b[1;32mIn[19], line 12\u001b[0m\n\u001b[0;32m     10\u001b[0m     \u001b[38;5;28;01mpass\u001b[39;00m\n\u001b[0;32m     11\u001b[0m c \u001b[38;5;241m=\u001b[39m Child(\u001b[38;5;124m\"\u001b[39m\u001b[38;5;124m小明\u001b[39m\u001b[38;5;124m\"\u001b[39m,\u001b[38;5;241m10\u001b[39m)\n\u001b[1;32m---> 12\u001b[0m \u001b[38;5;28mprint\u001b[39m(\u001b[43mc\u001b[49m\u001b[38;5;241;43m.\u001b[39;49m\u001b[43mfriend\u001b[49m)  \u001b[38;5;66;03m#报错，不能访问私有属性\u001b[39;00m\n\u001b[0;32m     13\u001b[0m c\u001b[38;5;241m.\u001b[39mplay()  \u001b[38;5;66;03m#报错，不能访问私有方法\u001b[39;00m\n\u001b[0;32m     15\u001b[0m \u001b[38;5;124;03m\"\"\"类的私有属性和私有方法\"\"\"\u001b[39;00m\n",
      "\u001b[1;31mAttributeError\u001b[0m: 'Child' object has no attribute 'friend'"
     ]
    }
   ],
   "source": [
    "\"\"\"类的私有属性和私有方法\"\"\"\n",
    "class Person():\n",
    "    def __init__(self,name,age):\n",
    "        self.name = name\n",
    "        self.age = age\n",
    "        self.__friend = [\"张三\",\"李四\"]\n",
    "    def __play(self):\n",
    "        print(\"打篮球\")\n",
    "class Child(Person):\n",
    "    pass\n",
    "c = Child(\"小明\",10)\n",
    "print(c.friend)  #报错，不能访问私有属性\n",
    "c.play()  #报错，不能访问私有方法\n",
    "\n",
    "\"\"\"类的私有属性和私有方法\"\"\"\n"
   ]
  },
  {
   "cell_type": "code",
   "execution_count": 23,
   "metadata": {},
   "outputs": [
    {
     "name": "stdout",
     "output_type": "stream",
     "text": [
      "xiaohua吃12\n",
      "吃了饱\n"
     ]
    }
   ],
   "source": [
    "\"\"\"反射，通过字符串的形式操作对象的属性和方法\n",
    "hasattr(obj,name)  判断对象obj是否有name属性或方法\n",
    "getattr(obj,name)  获取对象obj的name属性或方法\n",
    "setattr(obj,name,value)  设置对象obj的name属性或方法\n",
    "delattr(obj,name)  删除对象obj的name属性或方法\"\"\"\n",
    "class Dog():\n",
    "    def __init__(self,age,name):\n",
    "        self.age = age\n",
    "        self.name = name\n",
    "    def eat(self,food):\n",
    "        print(\"%s吃%s\"%(self.name,food))\n",
    "    def bark(self):\n",
    "        print(\"wang wang wang\")\n",
    "dog = Dog(3,\"xiaohua\")\n",
    "\n",
    "if hasattr(dog,\"eat\"):\n",
    "    eat = getattr(dog,\"eat\")\n",
    "    food = input(\"请输入要吃的食物：\")\n",
    "    eat(food)\n",
    "    setattr(dog,\"temp\",\"饱\")\n",
    "    print(\"吃了%s\"%dog.temp)"
   ]
  },
  {
   "cell_type": "code",
   "execution_count": 24,
   "metadata": {},
   "outputs": [
    {
     "data": {
      "text/plain": [
       "True"
      ]
     },
     "execution_count": 24,
     "metadata": {},
     "output_type": "execute_result"
    }
   ],
   "source": [
    "\"\"\"判断当前对象是否是某一个类实例化的\"\"\"\n",
    "isinstance(dog,Dog)"
   ]
  },
  {
   "cell_type": "code",
   "execution_count": 28,
   "metadata": {},
   "outputs": [
    {
     "name": "stdout",
     "output_type": "stream",
     "text": [
      "2\n",
      "这是一个静态方法\n",
      "这是一个静态方法\n"
     ]
    },
    {
     "data": {
      "text/plain": [
       "2"
      ]
     },
     "execution_count": 28,
     "metadata": {},
     "output_type": "execute_result"
    }
   ],
   "source": [
    "\"\"\"静态方法和类方法，类方法是针对类对象定义的方法，第一个参数默认是\n",
    "cls，类方法可以通过类对象和实例对象调用，静态方法是针对类对象定义的方法，\"\"\"\n",
    "class P():\n",
    "    num = 0\n",
    "\n",
    "    def __init__(self):\n",
    "        P.num += 1\n",
    "    \n",
    "    @classmethod    #类方法\n",
    "    def get_no_of_objects(cls):\n",
    "        return cls.num\n",
    "        \n",
    "    @staticmethod   #静态方法\n",
    "    def func():\n",
    "        print(\"这是一个静态方法\")\n",
    "p1 = P()\n",
    "p2 = P()\n",
    "\n",
    "print(P.get_no_of_objects())\n",
    "\n",
    "P.func() #调用静态方法\n",
    "p1.func() #调用静态方法\n",
    "p1.get_no_of_objects() #调用类方法"
   ]
  },
  {
   "cell_type": "code",
   "execution_count": 29,
   "metadata": {},
   "outputs": [
    {
     "name": "stdout",
     "output_type": "stream",
     "text": [
      "调用__new__方法\n",
      "调用__init__方法\n"
     ]
    }
   ],
   "source": [
    "\"\"\"魔法方法的使用\"\"\"\n",
    "\"\"\"\"__init__  和__new__ 构造方法\"\"\"\n",
    "class A():\n",
    "    def __init__(self):\n",
    "        print(\"调用__init__方法\")\n",
    "    def __new__(cls,*args,**kwargs):\n",
    "        print(\"调用__new__方法\")\n",
    "        return object.__new__(cls,*args,**kwargs)\n",
    "a = A()"
   ]
  },
  {
   "cell_type": "code",
   "execution_count": 32,
   "metadata": {},
   "outputs": [
    {
     "name": "stdout",
     "output_type": "stream",
     "text": [
      "对象被销毁\n"
     ]
    }
   ],
   "source": [
    "\"\"\"__del__ 析构方法\"\"\"\n",
    "class person():\n",
    "    def __del__(self):\n",
    "        print(\"对象被销毁\")\n",
    "p = person()\n",
    "del(p)\n"
   ]
  },
  {
   "cell_type": "code",
   "execution_count": 37,
   "metadata": {},
   "outputs": [
    {
     "name": "stdout",
     "output_type": "stream",
     "text": [
      "2\n"
     ]
    }
   ],
   "source": [
    "\"\"\"返回当前数据的长度，__len__\"\"\"\n",
    "class obj():\n",
    "    def __init__(self,value):\n",
    "        self.value = value\n",
    "    def __len__(self):\n",
    "        return len(self.value)-1\n",
    "o = obj([1,2,3])\n",
    "print(len(o))\n"
   ]
  },
  {
   "cell_type": "code",
   "execution_count": 40,
   "metadata": {},
   "outputs": [
    {
     "name": "stdout",
     "output_type": "stream",
     "text": [
      "<__main__.obj object at 0x000001FC940A95E0>\n",
      "<__main__.obj object at 0x000001FC940A95E0>\n",
      "<__main__.obj object at 0x000001FC940A95E0>\n"
     ]
    }
   ],
   "source": [
    "\"\"\"__str__和__repr__\"\"\"\n",
    "class obj():\n",
    "    pass\n",
    "o = obj()\n",
    "print(o)\n",
    "print(str(o))\n",
    "\n",
    "print(repr(o))"
   ]
  },
  {
   "cell_type": "code",
   "execution_count": 6,
   "metadata": {},
   "outputs": [
    {
     "name": "stdout",
     "output_type": "stream",
     "text": [
      "问别人的年龄是不礼貌的\n",
      "18\n",
      "python\n",
      "---\n"
     ]
    }
   ],
   "source": [
    "\"\"\"\"python中的类的属性的操作\"\"\"\n",
    "class People():\n",
    "    def __init__(self, name, age): \n",
    "        self.name = name \n",
    "        self.age = age\n",
    "    def __getattribute__(self, obj):\n",
    "        \"\"\"重写__getattribute__方法，形参obj是访问的属性，是一个属性名字字符串 \"\"\"\n",
    "        if obj == \"age\":        #如果属性名是name，执行如下操作 \n",
    "            print(\"问别人的年龄是不礼貌的\") \n",
    "            return 18 \n",
    "        else:     #else此处为其他属性访问过程，如果不写，那age和show方法就访问不到了 \n",
    "            temp = object.__getattribute__(self,obj)    \n",
    "            # 此处的temp是People类中定义的属性，如果此处不写return，则show方法无法执行 \n",
    "            return temp      \n",
    "    def show(self):\n",
    "        print(\"---\") \n",
    "s = People(\"python\",30) \n",
    "print(s.age) \n",
    "print(s.name) \n",
    "s.show() "
   ]
  },
  {
   "cell_type": "code",
   "execution_count": 11,
   "metadata": {},
   "outputs": [
    {
     "name": "stdout",
     "output_type": "stream",
     "text": [
      "呜..汪...汪汪..\n"
     ]
    }
   ],
   "source": [
    "\"\"\"property属性的使用\"\"\"\n",
    "class Dog(object): \n",
    "    def __init__(self,age,name): \n",
    "        self.age = age \n",
    "        self.name = name \n",
    "    @property #将方法变成属性，一般都会用于只读属性，不能修改，只能访问，没有参数的方法，不能加括号，否则会报错\n",
    "    def bark(self): \n",
    "        print(\"呜..汪...汪汪..\") \n",
    "dog = Dog(1, \"BayMAX\") \n",
    "dog.bark"
   ]
  },
  {
   "cell_type": "code",
   "execution_count": 1,
   "metadata": {},
   "outputs": [
    {
     "name": "stdout",
     "output_type": "stream",
     "text": [
      "10\n"
     ]
    }
   ],
   "source": [
    "\"\"\"getter和setter方法\"\"\"\n",
    "class Dog(object): \n",
    "    def __init__(self,age,name): \n",
    "        self.__age = age \n",
    "        self.name = name \n",
    "     \n",
    "    @property  # 将方法变成属性\n",
    "    def age(self): \n",
    "        return self.__age \n",
    "     \n",
    "    @age.setter # 设置属性赋值要求\n",
    "    def age(self, Age): \n",
    "        if 0 < Age < 100: \n",
    "            self.__age = Age \n",
    "            return self.__age \n",
    "        else: \n",
    "            self.__age = 18 \n",
    "            return self.__age \n",
    "         \n",
    "         \n",
    "dog = Dog(1, \"BayMAX\") \n",
    "dog.age = 10\n",
    "print(dog.age) # 10 \n",
    "\"\"\"当你执行dog.age时，你实际上是在调用age方法（getter），\n",
    "并返回__age私有属性的值。当你执行dog.age = 10时，你实际上\n",
    "是在调用age方法（setter），并将__age私有属性的值设置为10。\"\"\""
   ]
  },
  {
   "cell_type": "code",
   "execution_count": 4,
   "metadata": {},
   "outputs": [
    {
     "name": "stdout",
     "output_type": "stream",
     "text": [
      "1\n",
      "10\n"
     ]
    }
   ],
   "source": [
    "\"\"\"在类中设置只读属性：\"\"\"\n",
    "class Dog(object): \n",
    "    def __init__(self,age,name): \n",
    "        self.__age = age \n",
    "        self.name = name \n",
    "     \n",
    "    @property \n",
    "    def age(self): \n",
    "        return self.__age \n",
    "    @age.setter\n",
    "    def age(self, Age): \n",
    "        self.__age = Age \n",
    "        return self.__age  \n",
    "    @age.getter \n",
    "    def age(self): \n",
    "        return self.__age \n",
    " \n",
    "         \n",
    "dog = Dog(1, \"BayMAX\") \n",
    "print(dog.age) \n",
    "dog.age = 10\n",
    "print(dog.age) "
   ]
  },
  {
   "cell_type": "code",
   "execution_count": 5,
   "metadata": {},
   "outputs": [
    {
     "name": "stdout",
     "output_type": "stream",
     "text": [
      "这是一台：大米11\n"
     ]
    }
   ],
   "source": [
    "\"\"\"设计模式基础\"\"\"\n",
    "\"\"\"工厂模式 \"\"\"\n",
    "class Phone(object): \n",
    "    def __init__(self, color, price): \n",
    "        self.color = color \n",
    "        self.price = price \n",
    "     \n",
    "    def get_price(self): \n",
    "        return self.price \n",
    "     \n",
    "class DaMi(Phone): \n",
    "    def __init__(self, name): \n",
    "        print(\"这是一台：%s\"%name) \n",
    "class Li(Phone): \n",
    "    def __init__(self, name): \n",
    "        print(\"这是一台：%s\"%name) \n",
    "         \n",
    "class Factory(object): \n",
    "    def getPhone(self, name, brand): \n",
    "        if brand == 'DaMi': \n",
    "            return DaMi(name) \n",
    "        if brand == 'Li': \n",
    "            return Li(name) \n",
    " \n",
    "factory = Factory() \n",
    "phone = factory.getPhone(\"大米11\",\"DaMi\")"
   ]
  },
  {
   "cell_type": "code",
   "execution_count": 6,
   "metadata": {},
   "outputs": [],
   "source": [
    "\"\"\"使用__new__实现单例模式 \"\"\"\n",
    "class Singleton(object): \n",
    "    __instance = None \n",
    "\n",
    "    def __new__(cls, age, name): \n",
    "        #如果类属性__instance的值为None， \n",
    "        #那么就创建一个对象，并且赋值为这个对象的引用，保证下次调用这个方法时 \n",
    "        #能够知道之前已经创建过对象了，这样就保证了只有1个对象 \n",
    "        if not cls.__instance: \n",
    "            cls.__instance = object.__new__(cls) \n",
    "        return cls.__instance \n",
    " \n",
    "a = Singleton(18, \"张三\") \n",
    "b = Singleton(8, \"李四\") "
   ]
  },
  {
   "cell_type": "code",
   "execution_count": 7,
   "metadata": {},
   "outputs": [],
   "source": [
    "\"\"\"使用装饰器实现单例模式,了解即可\"\"\"\n",
    "def singleton(cls): \n",
    "    # 单下划线的作用是这个变量只能在当前模块里访问,仅仅是一种提示作用 \n",
    "    # 创建一个字典用来保存类的实例对象 \n",
    "    _instance = {} \n",
    " \n",
    "    def _singleton(*args, **kwargs): \n",
    "        # 先判断这个类有没有对象 \n",
    "        if cls not in _instance: \n",
    "            _instance[cls] = cls(*args, **kwargs)  # 创建一个对象,并保存到字典当中 \n",
    "        # 将实例对象返回 \n",
    "        return _instance[cls] \n",
    " \n",
    "    return _singleton \n",
    " \n",
    " \n",
    "@singleton \n",
    "class A(object): \n",
    "    a = 1 \n",
    " \n",
    "    def __init__(self, x=0): \n",
    "        self.x = x \n",
    "        print('这是A的类的初始化方法')"
   ]
  },
  {
   "cell_type": "code",
   "execution_count": null,
   "metadata": {},
   "outputs": [],
   "source": []
  }
 ],
 "metadata": {
  "kernelspec": {
   "display_name": "Python 3",
   "language": "python",
   "name": "python3"
  },
  "language_info": {
   "codemirror_mode": {
    "name": "ipython",
    "version": 3
   },
   "file_extension": ".py",
   "mimetype": "text/x-python",
   "name": "python",
   "nbconvert_exporter": "python",
   "pygments_lexer": "ipython3",
   "version": "3.8.10"
  }
 },
 "nbformat": 4,
 "nbformat_minor": 2
}
